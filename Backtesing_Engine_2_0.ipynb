{
  "nbformat": 4,
  "nbformat_minor": 0,
  "metadata": {
    "colab": {
      "name": "Backtesing Engine 2.0.ipynb",
      "provenance": [],
      "mount_file_id": "12HnSgg-YiLlbKt18wiVVrsO4xnGlFrFn",
      "authorship_tag": "ABX9TyN3jlZ7XByNuAUl0ecqI9pe",
      "include_colab_link": true
    },
    "kernelspec": {
      "name": "python3",
      "display_name": "Python 3"
    },
    "language_info": {
      "name": "python"
    }
  },
  "cells": [
    {
      "cell_type": "markdown",
      "metadata": {
        "id": "view-in-github",
        "colab_type": "text"
      },
      "source": [
        "<a href=\"https://colab.research.google.com/github/ambresh1/Colab/blob/main/Backtesing_Engine_2_0.ipynb\" target=\"_parent\"><img src=\"https://colab.research.google.com/assets/colab-badge.svg\" alt=\"Open In Colab\"/></a>"
      ]
    },
    {
      "cell_type": "code",
      "execution_count": 1,
      "metadata": {
        "id": "kpO-rkteoIz3"
      },
      "outputs": [],
      "source": [
        "# Backtesting new Day Sma & 1hr Sma Crossovers"
      ]
    },
    {
      "cell_type": "markdown",
      "source": [
        "[link text](https://medium.com/@Jachowskii/how-to-build-a-backtesting-engine-in-python-using-pandas-bc8e532a9e95)\n",
        "**Medium Backtesing Engine using pandas**"
      ],
      "metadata": {
        "id": "10CZ97dYIoNN"
      }
    },
    {
      "cell_type": "markdown",
      "source": [
        "Only Change the Entry and Exit Rules and entry & exit Data"
      ],
      "metadata": {
        "id": "_De9cjTueG8t"
      }
    },
    {
      "cell_type": "code",
      "execution_count": 2,
      "metadata": {
        "id": "Hhsf0YULIjNt"
      },
      "outputs": [],
      "source": [
        "import numpy as np\n",
        "import pandas as pd"
      ]
    },
    {
      "cell_type": "code",
      "source": [
        "infy=pd.read_csv(\"/content/drive/MyDrive/MyColab/5m data 6months/Infy.csv\",index_col=1)\n",
        "# infy.info()"
      ],
      "metadata": {
        "id": "jq0Hy2idJFF_"
      },
      "execution_count": 3,
      "outputs": []
    },
    {
      "cell_type": "code",
      "source": [
        "# Define a Trading Strategy\n",
        "def SMA(dataset, array, period):\n",
        "    return array.rolling(period).mean()"
      ],
      "metadata": {
        "id": "TWTrSJMTJgOU"
      },
      "execution_count": 4,
      "outputs": []
    },
    {
      "cell_type": "code",
      "source": [
        "sma1d_slow = SMA(infy, infy['Close'], 252) #12*21 of 1hr candels\n",
        "sma1d_fast = SMA(infy, infy['Close'], 600) #12*50 of 1hr candels\n",
        "sma_slow = SMA(infy, infy['Close'], 9)\n",
        "sma_fast = SMA(infy, infy['Close'], 50)"
      ],
      "metadata": {
        "id": "D_kmroXbKEzQ"
      },
      "execution_count": 5,
      "outputs": []
    },
    {
      "cell_type": "code",
      "source": [
        "# the entry rules and exit rules of our strategy\n",
        "def crossover(array1, array2, array3, array4):\n",
        "  if (array1 > array2).bool and (array3 > array4).bool :\n",
        "    return array3 > array4\n",
        "  \n",
        "def crossunder(array1, array2, array3, array4):\n",
        "  if (array1 < array2).bool and (array3 < array4).bool :\n",
        "    return array3 < array4"
      ],
      "metadata": {
        "id": "uWKR9IOrKOCp"
      },
      "execution_count": 6,
      "outputs": []
    },
    {
      "cell_type": "code",
      "source": [
        "enter_rules = crossover(sma1d_slow, sma1d_fast, sma_slow, sma_fast)\n",
        "exit_rules = crossunder(sma1d_slow, sma1d_fast,sma_slow, sma_fast)"
      ],
      "metadata": {
        "id": "lHzxwN_8KN9S"
      },
      "execution_count": 7,
      "outputs": []
    },
    {
      "cell_type": "code",
      "source": [
        "check = enter_rules[enter_rules.index == '2021-11-01T09:25:00']\n",
        "print(check)\n",
        "check2 = exit_rules[exit_rules.index == '2021-11-01T09:25:00']\n",
        "print(check2)"
      ],
      "metadata": {
        "colab": {
          "base_uri": "https://localhost:8080/"
        },
        "id": "RQh2W7_-KkMX",
        "outputId": "3f962636-c161-460a-ea4c-1510b1b0f045"
      },
      "execution_count": 8,
      "outputs": [
        {
          "output_type": "stream",
          "name": "stdout",
          "text": [
            "Datetime\n",
            "2021-11-01T09:25:00    False\n",
            "Name: Close, dtype: bool\n",
            "Datetime\n",
            "2021-11-01T09:25:00    False\n",
            "Name: Close, dtype: bool\n"
          ]
        }
      ]
    },
    {
      "cell_type": "code",
      "source": [
        "# Define a Market Position Function\n",
        "# turns on if enter_rules is True and exit_rules is False and\n",
        "# turns off if exit_rules is True.\n",
        "def marketposition_generator(dataset, enter_rules, exit_rules):\n",
        "\n",
        "  dataset['enter_rules'] = enter_rules\n",
        "  dataset['exit_rules'] = exit_rules\n",
        "  \n",
        "  status = 0\n",
        "  mp = []\n",
        "  for (i, j) in zip(enter_rules, exit_rules):\n",
        "      if status == 0:\n",
        "          if i == 1 and j != -1:\n",
        "              status = 1 \n",
        "      else:\n",
        "          if j == -1:\n",
        "              status = 0\n",
        "      mp.append(status)\n",
        "      \n",
        "  dataset['mp'] = mp\n",
        "  dataset['mp'] = dataset['mp'].shift(1)\n",
        "  dataset.iloc[0,2] = 0\n",
        "  \n",
        "  return dataset['mp']\n",
        "# marketposition_generator(infy,enter_rules,exit_rules)"
      ],
      "metadata": {
        "id": "2732Gk-LK92-"
      },
      "execution_count": 9,
      "outputs": []
    },
    {
      "cell_type": "code",
      "source": [
        "# Define a Backtesting Function\n",
        "# First of all, we have to define some parameters such as:\n",
        "# COSTS: fixed costs per trade (i.e. transactions’ fee)\n",
        "# INSTRUMENT: type of instrument (1 for stocks, 2 for futures, etc.)\n",
        "# OPERATION_MONEY: initial investment\n",
        "# DIRECTION: long or short\n",
        "# ORDER_TYPE: type of order (market, limit, stop, etc.)\n",
        "# ENTER_LEVEL: entry price"
      ],
      "metadata": {
        "id": "Lk2sSCSyLL4X"
      },
      "execution_count": 10,
      "outputs": []
    },
    {
      "cell_type": "code",
      "source": [
        "def apply_trading_system(dataset, direction, order_type, enter_level, enter_rules, exit_rules):\n",
        "    \n",
        "    dataset['enter_rules'] = enter_rules.apply(lambda x: 1 if x == True else 0)\n",
        "    dataset['exit_rules'] = exit_rules.apply(lambda x: -1 if x == True else 0)\n",
        "    dataset['mp'] = marketposition_generator(infy,dataset['enter_rules'], dataset['exit_rules'])\n",
        "    \n",
        "    if order_type == \"market\":\n",
        "        dataset['entry_price'] = np.where((dataset.mp.shift(1) == 0) & \n",
        "                                             (dataset.mp == 1), dataset.Open.shift(1), np.nan)\n",
        "        if INSTRUMENT == 1:\n",
        "            dataset['number_of_stocks'] = np.where((dataset.mp.shift(1) == 0) & \n",
        "                                                     (dataset.mp == 1), OPERATION_MONEY / dataset.Open, np.nan)\n",
        "    \n",
        "    dataset['entry_price'] = dataset['entry_price'].fillna(method='ffill')\n",
        "    \n",
        "    if INSTRUMENT == 1:\n",
        "        dataset['number_of_stocks'] = dataset['number_of_stocks']\\\n",
        "                                        .apply(lambda x: round(x, 0)).fillna(method='ffill')\n",
        "    \n",
        "    dataset['events_in'] = np.where((dataset.mp == 1) & (dataset.mp.shift(1) == 0), 'entry', '')\n",
        "    \n",
        "    if direction == 'long':\n",
        "        if INSTRUMENT == 1:\n",
        "            dataset['open_operations'] = (dataset.Close - dataset.entry_price) * dataset.number_of_stocks\n",
        "            dataset['open_operations'] = np.where((dataset.mp == 1) & (dataset.mp.shift(-1) == 0),\n",
        "                                                    (dataset.Open.shift(-1) - dataset.entry_price) * dataset.number_of_stocks - 2 * COSTS, \n",
        "                                                     dataset.open_operations)\n",
        "    else:\n",
        "        if INSTRUMENT == 1:\n",
        "            dataset['open_operations'] = (dataset.entry_price - dataset.Close) * dataset.number_of_stocks\n",
        "            dataset['open_operations'] = np.where((dataset.mp == 1) & (dataset.mp.shift(-1) == 0),\n",
        "                                                    (dataset.entry_price - dataset.Open.shift(-1)) * dataset.number_of_stocks - 2 * COSTS, \n",
        "                                                     dataset.open_operations)\n",
        "            \n",
        "    dataset['open_operations'] = np.where(dataset.mp == 1, dataset.open_operations, 0)\n",
        "    dataset['events_out'] = np.where((dataset.mp == 1) & (dataset.exit_rules == -1), 'exit', '')\n",
        "    dataset['operations'] = np.where((dataset.exit_rules == -1) & \n",
        "                                       (dataset.mp == 1), dataset.open_operations, np.nan)\n",
        "    dataset['closed_equity'] = dataset.operations.fillna(0).cumsum()\n",
        "    dataset['open_equity'] = dataset.closed_equity + dataset.open_operations - dataset.operations.fillna(0)\n",
        "    \n",
        "    dataset.to_csv('trading_system_export.csv')\n",
        "    \n",
        "    return dataset"
      ],
      "metadata": {
        "id": "2bZ6bn6QMF1h"
      },
      "execution_count": 11,
      "outputs": []
    },
    {
      "cell_type": "code",
      "source": [
        "COSTS = 100\n",
        "INSTRUMENT = 1 \n",
        "OPERATION_MONEY = 100000\n",
        "DIRECTION = \"long\"\n",
        "ORDER_TYPE = \"market\"\n",
        "ENTER_LEVEL = infy['Open']\n",
        "trading_system = apply_trading_system(infy, DIRECTION, ORDER_TYPE, ENTER_LEVEL, enter_rules, exit_rules)"
      ],
      "metadata": {
        "id": "W27jPtd_MMvy"
      },
      "execution_count": 12,
      "outputs": []
    },
    {
      "cell_type": "code",
      "source": [
        "net_profit = trading_system['closed_equity'][-1] - OPERATION_MONEY\n",
        "print(round(net_profit, 2))"
      ],
      "metadata": {
        "colab": {
          "base_uri": "https://localhost:8080/"
        },
        "id": "39GQIFyPM7Z2",
        "outputId": "4a3fdf84-6370-4b22-c4e3-8f9293610e27"
      },
      "execution_count": 13,
      "outputs": [
        {
          "output_type": "stream",
          "name": "stdout",
          "text": [
            "-116346.6\n"
          ]
        }
      ]
    }
  ]
}